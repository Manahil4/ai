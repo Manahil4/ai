{
 "cells": [
  {
   "cell_type": "code",
   "execution_count": 7,
   "metadata": {},
   "outputs": [
    {
     "name": "stdout",
     "output_type": "stream",
     "text": [
      "Image parking_lot.jfif loaded successfully.\n",
      "Image Screenshot 2024-09-09 004142.png loaded successfully.\n"
     ]
    }
   ],
   "source": [
    "import cv2\n",
    "\n",
    "# Read the images and load them as NumPy arrays.\n",
    "image = cv2.imread(r'C:\\Users\\intel\\Pictures\\verticalcolor.png',cv2.IMREAD_UNCHANGED)\n",
    "image3 = cv2.imread(r'C:\\Users\\intel\\Pictures\\Screenshot 2024-09-09 004142.png')\n",
    "image4 = cv2.imread(r'C:\\Users\\intel\\Pictures\\number of islands leetcode.png',cv2.IMREAD_GRAYSCALE)\n",
    "\n",
    "# Check if the images were loaded successfully\n",
    "if image is None:\n",
    "    print(\"Error: parking_lot.jfif not found.\")\n",
    "else:\n",
    "    print(\"Image parking_lot.jfif loaded successfully.\")\n",
    "    # Display the first image in a window\n",
    "    cv2.imshow('Parking Lot', image)\n",
    "    cv2.waitKey(0)  # Wait for a key press before closing the window\n",
    "    cv2.destroyAllWindows()  # Close all windows after displaying the first image\n",
    "\n",
    "# Now display the second image in a separate window\n",
    "if image3 is None:\n",
    "    print(\"Error: Screenshot 2024-09-09 004142.png not found.\")\n",
    "else:\n",
    "    print(\"Image Screenshot 2024-09-09 004142.png loaded successfully.\")\n",
    "    cv2.imshow('Second Image', image3)\n",
    "    cv2.waitKey(0)  # Wait for a key press before closing the window\n",
    "    cv2.destroyAllWindows()  # Close all windows after displaying the second image\n",
    "cv2.imshow('number of islands leetcode code', image4)\n",
    "cv2.waitKey(0)  # Wait for a key press before closing the window\n",
    "cv2.destroyAllWindows()  # Close all windows after displaying the second image"
   ]
  }
 ],
 "metadata": {
  "kernelspec": {
   "display_name": "Python 3",
   "language": "python",
   "name": "python3"
  },
  "language_info": {
   "codemirror_mode": {
    "name": "ipython",
    "version": 3
   },
   "file_extension": ".py",
   "mimetype": "text/x-python",
   "name": "python",
   "nbconvert_exporter": "python",
   "pygments_lexer": "ipython3",
   "version": "3.12.4"
  }
 },
 "nbformat": 4,
 "nbformat_minor": 2
}
